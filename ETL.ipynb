{
 "cells": [
  {
   "cell_type": "markdown",
   "id": "6a02edf1",
   "metadata": {},
   "source": [
    "# proyecto ETL migración a PostgreSQL"
   ]
  },
  {
   "cell_type": "code",
   "execution_count": 2,
   "id": "e1da26ca",
   "metadata": {},
   "outputs": [],
   "source": [
    "import pandas as pd\n",
    "import numpy as np\n",
    "import os"
   ]
  },
  {
   "cell_type": "code",
   "execution_count": 5,
   "id": "0294245a",
   "metadata": {},
   "outputs": [],
   "source": [
    "directorio = os.getcwd()\n",
    "dataset_name = 'jio_mart_items.csv'"
   ]
  },
  {
   "cell_type": "code",
   "execution_count": 6,
   "id": "1cee3574",
   "metadata": {},
   "outputs": [
    {
     "data": {
      "text/html": [
       "<div>\n",
       "<style scoped>\n",
       "    .dataframe tbody tr th:only-of-type {\n",
       "        vertical-align: middle;\n",
       "    }\n",
       "\n",
       "    .dataframe tbody tr th {\n",
       "        vertical-align: top;\n",
       "    }\n",
       "\n",
       "    .dataframe thead th {\n",
       "        text-align: right;\n",
       "    }\n",
       "</style>\n",
       "<table border=\"1\" class=\"dataframe\">\n",
       "  <thead>\n",
       "    <tr style=\"text-align: right;\">\n",
       "      <th></th>\n",
       "      <th>category</th>\n",
       "      <th>sub_category</th>\n",
       "      <th>href</th>\n",
       "      <th>items</th>\n",
       "      <th>price</th>\n",
       "    </tr>\n",
       "  </thead>\n",
       "  <tbody>\n",
       "    <tr>\n",
       "      <th>0</th>\n",
       "      <td>Groceries</td>\n",
       "      <td>Fruits &amp; Vegetables</td>\n",
       "      <td>https://www.jiomart.com/c/groceries/fruits-veg...</td>\n",
       "      <td>Fresh Dates (Pack) (Approx 450 g - 500 g)</td>\n",
       "      <td>109.0</td>\n",
       "    </tr>\n",
       "    <tr>\n",
       "      <th>1</th>\n",
       "      <td>Groceries</td>\n",
       "      <td>Fruits &amp; Vegetables</td>\n",
       "      <td>https://www.jiomart.com/c/groceries/fruits-veg...</td>\n",
       "      <td>Tender Coconut Cling Wrapped (1 pc) (Approx 90...</td>\n",
       "      <td>49.0</td>\n",
       "    </tr>\n",
       "    <tr>\n",
       "      <th>2</th>\n",
       "      <td>Groceries</td>\n",
       "      <td>Fruits &amp; Vegetables</td>\n",
       "      <td>https://www.jiomart.com/c/groceries/fruits-veg...</td>\n",
       "      <td>Mosambi 1 kg</td>\n",
       "      <td>69.0</td>\n",
       "    </tr>\n",
       "    <tr>\n",
       "      <th>3</th>\n",
       "      <td>Groceries</td>\n",
       "      <td>Fruits &amp; Vegetables</td>\n",
       "      <td>https://www.jiomart.com/c/groceries/fruits-veg...</td>\n",
       "      <td>Orange Imported 1 kg</td>\n",
       "      <td>125.0</td>\n",
       "    </tr>\n",
       "    <tr>\n",
       "      <th>4</th>\n",
       "      <td>Groceries</td>\n",
       "      <td>Fruits &amp; Vegetables</td>\n",
       "      <td>https://www.jiomart.com/c/groceries/fruits-veg...</td>\n",
       "      <td>Banana Robusta 6 pcs (Box) (Approx 800 g - 110...</td>\n",
       "      <td>44.0</td>\n",
       "    </tr>\n",
       "    <tr>\n",
       "      <th>...</th>\n",
       "      <td>...</td>\n",
       "      <td>...</td>\n",
       "      <td>...</td>\n",
       "      <td>...</td>\n",
       "      <td>...</td>\n",
       "    </tr>\n",
       "    <tr>\n",
       "      <th>162308</th>\n",
       "      <td>Jewellery</td>\n",
       "      <td>Fine Jewellery</td>\n",
       "      <td>https://www.jiomart.com/c/jewellery/fine-jewel...</td>\n",
       "      <td>Reliance Jewels Ag 99.9 5.6 gm Ganesha Silver ...</td>\n",
       "      <td>1669.0</td>\n",
       "    </tr>\n",
       "    <tr>\n",
       "      <th>162309</th>\n",
       "      <td>Jewellery</td>\n",
       "      <td>Fine Jewellery</td>\n",
       "      <td>https://www.jiomart.com/c/jewellery/fine-jewel...</td>\n",
       "      <td>Reliance Jewels Ag 99.9 4.58 gm Ganesha Silver...</td>\n",
       "      <td>1391.0</td>\n",
       "    </tr>\n",
       "    <tr>\n",
       "      <th>162310</th>\n",
       "      <td>Jewellery</td>\n",
       "      <td>Fine Jewellery</td>\n",
       "      <td>https://www.jiomart.com/c/jewellery/fine-jewel...</td>\n",
       "      <td>Reliance Jewels Ag 99.9 2.31 gm Ganesha Silver...</td>\n",
       "      <td>834.0</td>\n",
       "    </tr>\n",
       "    <tr>\n",
       "      <th>162311</th>\n",
       "      <td>Jewellery</td>\n",
       "      <td>Fine Jewellery</td>\n",
       "      <td>https://www.jiomart.com/c/jewellery/fine-jewel...</td>\n",
       "      <td>Reliance Jewels Ag 99.9 7.76 gm Ganesha Silver...</td>\n",
       "      <td>2276.0</td>\n",
       "    </tr>\n",
       "    <tr>\n",
       "      <th>162312</th>\n",
       "      <td>Jewellery</td>\n",
       "      <td>Fine Jewellery</td>\n",
       "      <td>https://www.jiomart.com/c/jewellery/fine-jewel...</td>\n",
       "      <td>Reliance Jewels Ag 99.9 2.9 gm Balaji Silver Idol</td>\n",
       "      <td>834.0</td>\n",
       "    </tr>\n",
       "  </tbody>\n",
       "</table>\n",
       "<p>162313 rows × 5 columns</p>\n",
       "</div>"
      ],
      "text/plain": [
       "         category         sub_category  \\\n",
       "0       Groceries  Fruits & Vegetables   \n",
       "1       Groceries  Fruits & Vegetables   \n",
       "2       Groceries  Fruits & Vegetables   \n",
       "3       Groceries  Fruits & Vegetables   \n",
       "4       Groceries  Fruits & Vegetables   \n",
       "...           ...                  ...   \n",
       "162308  Jewellery       Fine Jewellery   \n",
       "162309  Jewellery       Fine Jewellery   \n",
       "162310  Jewellery       Fine Jewellery   \n",
       "162311  Jewellery       Fine Jewellery   \n",
       "162312  Jewellery       Fine Jewellery   \n",
       "\n",
       "                                                     href  \\\n",
       "0       https://www.jiomart.com/c/groceries/fruits-veg...   \n",
       "1       https://www.jiomart.com/c/groceries/fruits-veg...   \n",
       "2       https://www.jiomart.com/c/groceries/fruits-veg...   \n",
       "3       https://www.jiomart.com/c/groceries/fruits-veg...   \n",
       "4       https://www.jiomart.com/c/groceries/fruits-veg...   \n",
       "...                                                   ...   \n",
       "162308  https://www.jiomart.com/c/jewellery/fine-jewel...   \n",
       "162309  https://www.jiomart.com/c/jewellery/fine-jewel...   \n",
       "162310  https://www.jiomart.com/c/jewellery/fine-jewel...   \n",
       "162311  https://www.jiomart.com/c/jewellery/fine-jewel...   \n",
       "162312  https://www.jiomart.com/c/jewellery/fine-jewel...   \n",
       "\n",
       "                                                    items   price  \n",
       "0               Fresh Dates (Pack) (Approx 450 g - 500 g)   109.0  \n",
       "1       Tender Coconut Cling Wrapped (1 pc) (Approx 90...    49.0  \n",
       "2                                            Mosambi 1 kg    69.0  \n",
       "3                                    Orange Imported 1 kg   125.0  \n",
       "4       Banana Robusta 6 pcs (Box) (Approx 800 g - 110...    44.0  \n",
       "...                                                   ...     ...  \n",
       "162308  Reliance Jewels Ag 99.9 5.6 gm Ganesha Silver ...  1669.0  \n",
       "162309  Reliance Jewels Ag 99.9 4.58 gm Ganesha Silver...  1391.0  \n",
       "162310  Reliance Jewels Ag 99.9 2.31 gm Ganesha Silver...   834.0  \n",
       "162311  Reliance Jewels Ag 99.9 7.76 gm Ganesha Silver...  2276.0  \n",
       "162312  Reliance Jewels Ag 99.9 2.9 gm Balaji Silver Idol   834.0  \n",
       "\n",
       "[162313 rows x 5 columns]"
      ]
     },
     "execution_count": 6,
     "metadata": {},
     "output_type": "execute_result"
    }
   ],
   "source": [
    "productos = pd.read_csv(os.path.join(directorio,dataset_name))\n",
    "productos"
   ]
  },
  {
   "cell_type": "code",
   "execution_count": 8,
   "id": "d11e224c",
   "metadata": {},
   "outputs": [
    {
     "data": {
      "text/plain": [
       "array(['Beauty', 'Electronics', 'Fashion', 'Groceries', 'Home & Kitchen',\n",
       "       'Jewellery'], dtype=object)"
      ]
     },
     "execution_count": 8,
     "metadata": {},
     "output_type": "execute_result"
    }
   ],
   "source": [
    "np.unique(productos['category'])"
   ]
  },
  {
   "cell_type": "code",
   "execution_count": 9,
   "id": "126c8d2b",
   "metadata": {},
   "outputs": [
    {
     "data": {
      "text/plain": [
       "array(['Groceries', 'Home & Kitchen', 'Fashion', 'Electronics', 'Beauty',\n",
       "       'Jewellery'], dtype=object)"
      ]
     },
     "execution_count": 9,
     "metadata": {},
     "output_type": "execute_result"
    }
   ],
   "source": [
    "productos['category'].unique()"
   ]
  },
  {
   "cell_type": "code",
   "execution_count": 10,
   "id": "5d02e509",
   "metadata": {},
   "outputs": [
    {
     "ename": "AttributeError",
     "evalue": "module 'pandas' has no attribute 'dataFrame'",
     "output_type": "error",
     "traceback": [
      "\u001b[0;31m---------------------------------------------------------------------------\u001b[0m",
      "\u001b[0;31mAttributeError\u001b[0m                            Traceback (most recent call last)",
      "Input \u001b[0;32mIn [10]\u001b[0m, in \u001b[0;36m<cell line: 1>\u001b[0;34m()\u001b[0m\n\u001b[0;32m----> 1\u001b[0m category \u001b[38;5;241m=\u001b[39m \u001b[43mpd\u001b[49m\u001b[38;5;241;43m.\u001b[39;49m\u001b[43mdataFrame\u001b[49m({\u001b[38;5;124m'\u001b[39m\u001b[38;5;124mcategory_name\u001b[39m\u001b[38;5;124m'\u001b[39m: np\u001b[38;5;241m.\u001b[39munique(productos[\u001b[38;5;124m'\u001b[39m\u001b[38;5;124mcategory\u001b[39m\u001b[38;5;124m'\u001b[39m]),\n\u001b[1;32m      2\u001b[0m                         \u001b[38;5;124m'\u001b[39m\u001b[38;5;124mcategory_id\u001b[39m\u001b[38;5;124m'\u001b[39m: \u001b[38;5;28mlist\u001b[39m(\u001b[38;5;28mrange\u001b[39m(\u001b[38;5;241m1\u001b[39m,\u001b[38;5;28mlen\u001b[39m(productos[\u001b[38;5;124m'\u001b[39m\u001b[38;5;124mcategory\u001b[39m\u001b[38;5;124m'\u001b[39m]\u001b[38;5;241m.\u001b[39munique()) \u001b[38;5;241m+\u001b[39m \u001b[38;5;241m1\u001b[39m) )})\n\u001b[1;32m      3\u001b[0m category\n",
      "File \u001b[0;32m~/miniconda3/envs/proyectoETL/lib/python3.10/site-packages/pandas/__init__.py:261\u001b[0m, in \u001b[0;36m__getattr__\u001b[0;34m(name)\u001b[0m\n\u001b[1;32m    257\u001b[0m     \u001b[38;5;28;01mfrom\u001b[39;00m \u001b[38;5;21;01mpandas\u001b[39;00m\u001b[38;5;21;01m.\u001b[39;00m\u001b[38;5;21;01mcore\u001b[39;00m\u001b[38;5;21;01m.\u001b[39;00m\u001b[38;5;21;01marrays\u001b[39;00m\u001b[38;5;21;01m.\u001b[39;00m\u001b[38;5;21;01msparse\u001b[39;00m \u001b[38;5;28;01mimport\u001b[39;00m SparseArray \u001b[38;5;28;01mas\u001b[39;00m _SparseArray\n\u001b[1;32m    259\u001b[0m     \u001b[38;5;28;01mreturn\u001b[39;00m _SparseArray\n\u001b[0;32m--> 261\u001b[0m \u001b[38;5;28;01mraise\u001b[39;00m \u001b[38;5;167;01mAttributeError\u001b[39;00m(\u001b[38;5;124mf\u001b[39m\u001b[38;5;124m\"\u001b[39m\u001b[38;5;124mmodule \u001b[39m\u001b[38;5;124m'\u001b[39m\u001b[38;5;124mpandas\u001b[39m\u001b[38;5;124m'\u001b[39m\u001b[38;5;124m has no attribute \u001b[39m\u001b[38;5;124m'\u001b[39m\u001b[38;5;132;01m{\u001b[39;00mname\u001b[38;5;132;01m}\u001b[39;00m\u001b[38;5;124m'\u001b[39m\u001b[38;5;124m\"\u001b[39m)\n",
      "\u001b[0;31mAttributeError\u001b[0m: module 'pandas' has no attribute 'dataFrame'"
     ]
    }
   ],
   "source": [
    "category = pd.dataFrame({'category_name': np.unique(productos['category']),\n",
    "                        'category_id': list(range(1,len(productos['category'].unique()) + 1) )})\n",
    "category"
   ]
  }
 ],
 "metadata": {
  "kernelspec": {
   "display_name": "Python 3 (ipykernel)",
   "language": "python",
   "name": "python3"
  },
  "language_info": {
   "codemirror_mode": {
    "name": "ipython",
    "version": 3
   },
   "file_extension": ".py",
   "mimetype": "text/x-python",
   "name": "python",
   "nbconvert_exporter": "python",
   "pygments_lexer": "ipython3",
   "version": "3.10.4"
  }
 },
 "nbformat": 4,
 "nbformat_minor": 5
}
