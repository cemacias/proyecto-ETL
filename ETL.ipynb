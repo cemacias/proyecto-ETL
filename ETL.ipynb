{
 "cells": [
  {
   "cell_type": "markdown",
   "id": "6a02edf1",
   "metadata": {},
   "source": [
    "# proyecto ETL Migración a PostgreSQL\n",
    "\n",
    "Importamos las librerías que se usarán"
   ]
  },
  {
   "cell_type": "code",
   "execution_count": 8,
   "id": "e1da26ca",
   "metadata": {},
   "outputs": [],
   "source": [
    "import pandas as pd #Librería qeu contiene funciones qeu nos ayudan con el análisis de datos  \n",
    "import numpy as np  ##Útil para realizar calcualo avanzados\n",
    "import os"
   ]
  },
  {
   "cell_type": "code",
   "execution_count": 3,
   "id": "0294245a",
   "metadata": {},
   "outputs": [],
   "source": [
    "directorio = os.getcwd()\n",
    "dataset_name = 'jio_mart_items.csv'"
   ]
  },
  {
   "cell_type": "code",
   "execution_count": 4,
   "id": "1cee3574",
   "metadata": {},
   "outputs": [
    {
     "data": {
      "text/html": [
       "<div>\n",
       "<style scoped>\n",
       "    .dataframe tbody tr th:only-of-type {\n",
       "        vertical-align: middle;\n",
       "    }\n",
       "\n",
       "    .dataframe tbody tr th {\n",
       "        vertical-align: top;\n",
       "    }\n",
       "\n",
       "    .dataframe thead th {\n",
       "        text-align: right;\n",
       "    }\n",
       "</style>\n",
       "<table border=\"1\" class=\"dataframe\">\n",
       "  <thead>\n",
       "    <tr style=\"text-align: right;\">\n",
       "      <th></th>\n",
       "      <th>category</th>\n",
       "      <th>sub_category</th>\n",
       "      <th>href</th>\n",
       "      <th>items</th>\n",
       "      <th>price</th>\n",
       "    </tr>\n",
       "  </thead>\n",
       "  <tbody>\n",
       "    <tr>\n",
       "      <th>0</th>\n",
       "      <td>Groceries</td>\n",
       "      <td>Fruits &amp; Vegetables</td>\n",
       "      <td>https://www.jiomart.com/c/groceries/fruits-veg...</td>\n",
       "      <td>Fresh Dates (Pack) (Approx 450 g - 500 g)</td>\n",
       "      <td>109.0</td>\n",
       "    </tr>\n",
       "    <tr>\n",
       "      <th>1</th>\n",
       "      <td>Groceries</td>\n",
       "      <td>Fruits &amp; Vegetables</td>\n",
       "      <td>https://www.jiomart.com/c/groceries/fruits-veg...</td>\n",
       "      <td>Tender Coconut Cling Wrapped (1 pc) (Approx 90...</td>\n",
       "      <td>49.0</td>\n",
       "    </tr>\n",
       "    <tr>\n",
       "      <th>2</th>\n",
       "      <td>Groceries</td>\n",
       "      <td>Fruits &amp; Vegetables</td>\n",
       "      <td>https://www.jiomart.com/c/groceries/fruits-veg...</td>\n",
       "      <td>Mosambi 1 kg</td>\n",
       "      <td>69.0</td>\n",
       "    </tr>\n",
       "    <tr>\n",
       "      <th>3</th>\n",
       "      <td>Groceries</td>\n",
       "      <td>Fruits &amp; Vegetables</td>\n",
       "      <td>https://www.jiomart.com/c/groceries/fruits-veg...</td>\n",
       "      <td>Orange Imported 1 kg</td>\n",
       "      <td>125.0</td>\n",
       "    </tr>\n",
       "    <tr>\n",
       "      <th>4</th>\n",
       "      <td>Groceries</td>\n",
       "      <td>Fruits &amp; Vegetables</td>\n",
       "      <td>https://www.jiomart.com/c/groceries/fruits-veg...</td>\n",
       "      <td>Banana Robusta 6 pcs (Box) (Approx 800 g - 110...</td>\n",
       "      <td>44.0</td>\n",
       "    </tr>\n",
       "    <tr>\n",
       "      <th>...</th>\n",
       "      <td>...</td>\n",
       "      <td>...</td>\n",
       "      <td>...</td>\n",
       "      <td>...</td>\n",
       "      <td>...</td>\n",
       "    </tr>\n",
       "    <tr>\n",
       "      <th>162308</th>\n",
       "      <td>Jewellery</td>\n",
       "      <td>Fine Jewellery</td>\n",
       "      <td>https://www.jiomart.com/c/jewellery/fine-jewel...</td>\n",
       "      <td>Reliance Jewels Ag 99.9 5.6 gm Ganesha Silver ...</td>\n",
       "      <td>1669.0</td>\n",
       "    </tr>\n",
       "    <tr>\n",
       "      <th>162309</th>\n",
       "      <td>Jewellery</td>\n",
       "      <td>Fine Jewellery</td>\n",
       "      <td>https://www.jiomart.com/c/jewellery/fine-jewel...</td>\n",
       "      <td>Reliance Jewels Ag 99.9 4.58 gm Ganesha Silver...</td>\n",
       "      <td>1391.0</td>\n",
       "    </tr>\n",
       "    <tr>\n",
       "      <th>162310</th>\n",
       "      <td>Jewellery</td>\n",
       "      <td>Fine Jewellery</td>\n",
       "      <td>https://www.jiomart.com/c/jewellery/fine-jewel...</td>\n",
       "      <td>Reliance Jewels Ag 99.9 2.31 gm Ganesha Silver...</td>\n",
       "      <td>834.0</td>\n",
       "    </tr>\n",
       "    <tr>\n",
       "      <th>162311</th>\n",
       "      <td>Jewellery</td>\n",
       "      <td>Fine Jewellery</td>\n",
       "      <td>https://www.jiomart.com/c/jewellery/fine-jewel...</td>\n",
       "      <td>Reliance Jewels Ag 99.9 7.76 gm Ganesha Silver...</td>\n",
       "      <td>2276.0</td>\n",
       "    </tr>\n",
       "    <tr>\n",
       "      <th>162312</th>\n",
       "      <td>Jewellery</td>\n",
       "      <td>Fine Jewellery</td>\n",
       "      <td>https://www.jiomart.com/c/jewellery/fine-jewel...</td>\n",
       "      <td>Reliance Jewels Ag 99.9 2.9 gm Balaji Silver Idol</td>\n",
       "      <td>834.0</td>\n",
       "    </tr>\n",
       "  </tbody>\n",
       "</table>\n",
       "<p>162313 rows × 5 columns</p>\n",
       "</div>"
      ],
      "text/plain": [
       "         category         sub_category  \\\n",
       "0       Groceries  Fruits & Vegetables   \n",
       "1       Groceries  Fruits & Vegetables   \n",
       "2       Groceries  Fruits & Vegetables   \n",
       "3       Groceries  Fruits & Vegetables   \n",
       "4       Groceries  Fruits & Vegetables   \n",
       "...           ...                  ...   \n",
       "162308  Jewellery       Fine Jewellery   \n",
       "162309  Jewellery       Fine Jewellery   \n",
       "162310  Jewellery       Fine Jewellery   \n",
       "162311  Jewellery       Fine Jewellery   \n",
       "162312  Jewellery       Fine Jewellery   \n",
       "\n",
       "                                                     href  \\\n",
       "0       https://www.jiomart.com/c/groceries/fruits-veg...   \n",
       "1       https://www.jiomart.com/c/groceries/fruits-veg...   \n",
       "2       https://www.jiomart.com/c/groceries/fruits-veg...   \n",
       "3       https://www.jiomart.com/c/groceries/fruits-veg...   \n",
       "4       https://www.jiomart.com/c/groceries/fruits-veg...   \n",
       "...                                                   ...   \n",
       "162308  https://www.jiomart.com/c/jewellery/fine-jewel...   \n",
       "162309  https://www.jiomart.com/c/jewellery/fine-jewel...   \n",
       "162310  https://www.jiomart.com/c/jewellery/fine-jewel...   \n",
       "162311  https://www.jiomart.com/c/jewellery/fine-jewel...   \n",
       "162312  https://www.jiomart.com/c/jewellery/fine-jewel...   \n",
       "\n",
       "                                                    items   price  \n",
       "0               Fresh Dates (Pack) (Approx 450 g - 500 g)   109.0  \n",
       "1       Tender Coconut Cling Wrapped (1 pc) (Approx 90...    49.0  \n",
       "2                                            Mosambi 1 kg    69.0  \n",
       "3                                    Orange Imported 1 kg   125.0  \n",
       "4       Banana Robusta 6 pcs (Box) (Approx 800 g - 110...    44.0  \n",
       "...                                                   ...     ...  \n",
       "162308  Reliance Jewels Ag 99.9 5.6 gm Ganesha Silver ...  1669.0  \n",
       "162309  Reliance Jewels Ag 99.9 4.58 gm Ganesha Silver...  1391.0  \n",
       "162310  Reliance Jewels Ag 99.9 2.31 gm Ganesha Silver...   834.0  \n",
       "162311  Reliance Jewels Ag 99.9 7.76 gm Ganesha Silver...  2276.0  \n",
       "162312  Reliance Jewels Ag 99.9 2.9 gm Balaji Silver Idol   834.0  \n",
       "\n",
       "[162313 rows x 5 columns]"
      ]
     },
     "execution_count": 4,
     "metadata": {},
     "output_type": "execute_result"
    }
   ],
   "source": [
    "productos = pd.read_csv(os.path.join(directorio,dataset_name)) #leemos el archivo que contienla información\n",
    "productos"
   ]
  },
  {
   "cell_type": "code",
   "execution_count": 5,
   "id": "d11e224c",
   "metadata": {},
   "outputs": [
    {
     "data": {
      "text/plain": [
       "array(['Beauty', 'Electronics', 'Fashion', 'Groceries', 'Home & Kitchen',\n",
       "       'Jewellery'], dtype=object)"
      ]
     },
     "execution_count": 5,
     "metadata": {},
     "output_type": "execute_result"
    }
   ],
   "source": [
    "np.unique(productos['category'])"
   ]
  },
  {
   "cell_type": "code",
   "execution_count": 6,
   "id": "126c8d2b",
   "metadata": {},
   "outputs": [
    {
     "data": {
      "text/plain": [
       "array(['Groceries', 'Home & Kitchen', 'Fashion', 'Electronics', 'Beauty',\n",
       "       'Jewellery'], dtype=object)"
      ]
     },
     "execution_count": 6,
     "metadata": {},
     "output_type": "execute_result"
    }
   ],
   "source": [
    "productos['category'].unique()"
   ]
  },
  {
   "cell_type": "code",
   "execution_count": 7,
   "id": "5d02e509",
   "metadata": {},
   "outputs": [
    {
     "data": {
      "text/html": [
       "<div>\n",
       "<style scoped>\n",
       "    .dataframe tbody tr th:only-of-type {\n",
       "        vertical-align: middle;\n",
       "    }\n",
       "\n",
       "    .dataframe tbody tr th {\n",
       "        vertical-align: top;\n",
       "    }\n",
       "\n",
       "    .dataframe thead th {\n",
       "        text-align: right;\n",
       "    }\n",
       "</style>\n",
       "<table border=\"1\" class=\"dataframe\">\n",
       "  <thead>\n",
       "    <tr style=\"text-align: right;\">\n",
       "      <th></th>\n",
       "      <th>category_name</th>\n",
       "      <th>category_id</th>\n",
       "    </tr>\n",
       "  </thead>\n",
       "  <tbody>\n",
       "    <tr>\n",
       "      <th>0</th>\n",
       "      <td>Beauty</td>\n",
       "      <td>1</td>\n",
       "    </tr>\n",
       "    <tr>\n",
       "      <th>1</th>\n",
       "      <td>Electronics</td>\n",
       "      <td>2</td>\n",
       "    </tr>\n",
       "    <tr>\n",
       "      <th>2</th>\n",
       "      <td>Fashion</td>\n",
       "      <td>3</td>\n",
       "    </tr>\n",
       "    <tr>\n",
       "      <th>3</th>\n",
       "      <td>Groceries</td>\n",
       "      <td>4</td>\n",
       "    </tr>\n",
       "    <tr>\n",
       "      <th>4</th>\n",
       "      <td>Home &amp; Kitchen</td>\n",
       "      <td>5</td>\n",
       "    </tr>\n",
       "    <tr>\n",
       "      <th>5</th>\n",
       "      <td>Jewellery</td>\n",
       "      <td>6</td>\n",
       "    </tr>\n",
       "  </tbody>\n",
       "</table>\n",
       "</div>"
      ],
      "text/plain": [
       "    category_name  category_id\n",
       "0          Beauty            1\n",
       "1     Electronics            2\n",
       "2         Fashion            3\n",
       "3       Groceries            4\n",
       "4  Home & Kitchen            5\n",
       "5       Jewellery            6"
      ]
     },
     "execution_count": 7,
     "metadata": {},
     "output_type": "execute_result"
    }
   ],
   "source": [
    "category = pd.DataFrame({'category_name': np.unique(productos['category']),\n",
    "                        'category_id': list(range(1,len(productos['category'].unique()) + 1) )})\n",
    "category"
   ]
  }
 ],
 "metadata": {
  "kernelspec": {
   "display_name": "Python 3 (ipykernel)",
   "language": "python",
   "name": "python3"
  },
  "language_info": {
   "codemirror_mode": {
    "name": "ipython",
    "version": 3
   },
   "file_extension": ".py",
   "mimetype": "text/x-python",
   "name": "python",
   "nbconvert_exporter": "python",
   "pygments_lexer": "ipython3",
   "version": "3.10.4"
  }
 },
 "nbformat": 4,
 "nbformat_minor": 5
}
